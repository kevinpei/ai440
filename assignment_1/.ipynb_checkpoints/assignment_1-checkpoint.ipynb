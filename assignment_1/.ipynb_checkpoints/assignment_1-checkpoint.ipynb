{
 "cells": [
  {
   "cell_type": "code",
   "execution_count": 1,
   "metadata": {
    "collapsed": false
   },
   "outputs": [
    {
     "ename": "ModuleNotFoundError",
     "evalue": "No module named 'GUI'",
     "output_type": "error",
     "traceback": [
      "\u001b[0;31m---------------------------------------------------------------------------\u001b[0m",
      "\u001b[0;31mModuleNotFoundError\u001b[0m                       Traceback (most recent call last)",
      "\u001b[0;32m<ipython-input-1-265a2bff5736>\u001b[0m in \u001b[0;36m<module>\u001b[0;34m()\u001b[0m\n\u001b[1;32m     14\u001b[0m \u001b[1;33m\u001b[0m\u001b[0m\n\u001b[1;32m     15\u001b[0m \u001b[1;32mimport\u001b[0m \u001b[0mpickle\u001b[0m\u001b[1;33m\u001b[0m\u001b[0m\n\u001b[0;32m---> 16\u001b[0;31m \u001b[1;32mfrom\u001b[0m \u001b[0mGUI\u001b[0m \u001b[1;32mimport\u001b[0m \u001b[0mApplication\u001b[0m\u001b[1;33m,\u001b[0m \u001b[0mScrollableView\u001b[0m\u001b[1;33m,\u001b[0m \u001b[0mDocument\u001b[0m\u001b[1;33m,\u001b[0m \u001b[0mWindow\u001b[0m\u001b[1;33m,\u001b[0m \u001b[0mCursor\u001b[0m\u001b[1;33m,\u001b[0m \u001b[0mrgb\u001b[0m\u001b[1;33m\u001b[0m\u001b[0m\n\u001b[0m\u001b[1;32m     17\u001b[0m \u001b[1;32mfrom\u001b[0m \u001b[0mGUI\u001b[0m\u001b[1;33m.\u001b[0m\u001b[0mFiles\u001b[0m \u001b[1;32mimport\u001b[0m \u001b[0mFileType\u001b[0m\u001b[1;33m\u001b[0m\u001b[0m\n\u001b[1;32m     18\u001b[0m \u001b[1;32mfrom\u001b[0m \u001b[0mGUI\u001b[0m\u001b[1;33m.\u001b[0m\u001b[0mGeometry\u001b[0m \u001b[1;32mimport\u001b[0m \u001b[0mpt_in_rect\u001b[0m\u001b[1;33m,\u001b[0m \u001b[0moffset_rect\u001b[0m\u001b[1;33m,\u001b[0m \u001b[0mrects_intersect\u001b[0m\u001b[1;33m\u001b[0m\u001b[0m\n",
      "\u001b[0;31mModuleNotFoundError\u001b[0m: No module named 'GUI'"
     ]
    }
   ],
   "source": [
    "#!/usr/bin/env python\n",
    "import Tkinter as tk\n",
    "\n",
    "class Application(tk.Frame):              \n",
    "    def __init__(self, master=None):\n",
    "        tk.Frame.__init__(self, master)   \n",
    "        self.grid()                       \n",
    "        self.createWidgets()\n",
    "\n",
    "    def createWidgets(self):\n",
    "        self.quitButton = tk.Button(self, text='Quit',\n",
    "            command=self.quit)            \n",
    "        self.quitButton.grid()            \n",
    "\n",
    "app = Application()                       \n",
    "app.master.title('Sample application')    \n",
    "app.mainloop()                            "
   ]
  },
  {
   "cell_type": "code",
   "execution_count": null,
   "metadata": {
    "collapsed": true
   },
   "outputs": [],
   "source": []
  }
 ],
 "metadata": {
  "kernelspec": {
   "display_name": "Python 3",
   "language": "python",
   "name": "python3"
  },
  "language_info": {
   "codemirror_mode": {
    "name": "ipython",
    "version": 3
   },
   "file_extension": ".py",
   "mimetype": "text/x-python",
   "name": "python",
   "nbconvert_exporter": "python",
   "pygments_lexer": "ipython3",
   "version": "3.6.0"
  }
 },
 "nbformat": 4,
 "nbformat_minor": 2
}
