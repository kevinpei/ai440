{
 "cells": [
  {
   "cell_type": "code",
   "execution_count": 16,
   "metadata": {
    "collapsed": true
   },
   "outputs": [],
   "source": [
    "#A function to return an array given a file name that points to a text file containing numbers in a grid pattern\n",
    "def read_file(file_name):\n",
    "    #Open the file and then set the length of an array side based on how many lines long it is\n",
    "    file = open(file_name, \"r\")\n",
    "    n = len(file.readlines())\n",
    "    #Have to close and open the file again to reset file pointer back to the top of the file\n",
    "    file.close()\n",
    "    file = open(file_name, \"r\")\n",
    "    #Create an empty array and set its rows to be arrays\n",
    "    arr = [[0 for x in range(n)] for y in range(n)]\n",
    "    x=0\n",
    "    for line in file:\n",
    "        #Because the new line character \\n is included, you have to replace it with \"\" and then split based on spaces\n",
    "        arr[x] = line.replace(\"\\n\", \"\").split(\" \")\n",
    "        x += 1\n",
    "    file.close()\n",
    "    #Return the finished array\n",
    "    return arr"
   ]
  },
  {
   "cell_type": "code",
   "execution_count": null,
   "metadata": {
    "collapsed": true
   },
   "outputs": [],
   "source": []
  },
  {
   "cell_type": "code",
   "execution_count": 17,
   "metadata": {
    "collapsed": true
   },
   "outputs": [],
   "source": [
    "import tkinter as tk\n",
    "import random as r\n",
    "\n",
    "class puzzleGrid:\n",
    "    \n",
    "    #A constructor for intializing a map.\n",
    "    def __init__(self, master, inArray):\n",
    "        #Assigning the 2D array's 1D size to a variable\n",
    "        gridDim = len(inArray)\n",
    "        #Generating a NxN grid based upon the input 2D array\n",
    "        for i in range(gridDim):\n",
    "            for j in range(gridDim):\n",
    "                #Int values stored in the 2D array are converted to strings before display in the GUI grid.\n",
    "                tk.Label(master, text = str(inArray[i][j]), padx = 10, pady = 10, relief = \"sunken\").grid(row=i, column=j)\n",
    "\n",
    "#A function for generating a gradient value between provided 2D array dimensions, X-value, and Y-value.\n",
    "#To be used to generate puzzles containing only legal moves.\n",
    "def randomGradientGen(inDim, xVal, yVal):\n",
    "    max_x = max(xVal, inDim - 1 - xVal)\n",
    "    max_y = max(yVal, inDim - 1 - yVal)\n",
    "    max_value = max(max_x, max_y)\n",
    "    \n",
    "    outInt = r.randint(1,max_value)\n",
    "    \n",
    "    return outInt\n",
    "    \n",
    "def arrayGen(inDim):\n",
    "\n",
    "    #Our output array, Filling with random numbers with legal moves.\n",
    "    newArr = [[randomGradientGen(inDim, x, y) for x in range(inDim)] for y in range(inDim)]\n",
    "    #Setting goal to zero\n",
    "    newArr[inDim-1][inDim-1] = 0\n",
    "    return newArr\n",
    "\n",
    "def show_GUI(arr):\n",
    "    master = tk.Tk()\n",
    "    master.resizable(width=False, height=False)\n",
    "    newGrid = puzzleGrid(master, arr)\n",
    "    master.mainloop()\n"
   ]
  },
  {
   "cell_type": "code",
   "execution_count": null,
   "metadata": {
    "collapsed": true
   },
   "outputs": [],
   "source": []
  },
  {
   "cell_type": "code",
   "execution_count": null,
   "metadata": {
    "collapsed": true
   },
   "outputs": [],
   "source": []
  },
  {
   "cell_type": "code",
   "execution_count": null,
   "metadata": {
    "collapsed": true
   },
   "outputs": [],
   "source": []
  },
  {
   "cell_type": "code",
   "execution_count": 18,
   "metadata": {
    "collapsed": true
   },
   "outputs": [],
   "source": [
    "#A function to return a matrix containing the number of steps required to reach each node in a given grid. If\n",
    "#the node can't be reached, an 'X' appears there instead.\n",
    "#The show_gui argument determines whether to show a GUI at the conclusion of the function or not.\n",
    "def BFS(grid, show_gui):\n",
    "    #Each grid is assumed to be n x n, so n is taken to be the length of one row of the grid\n",
    "    n = len(grid[0])\n",
    "    #This is the matrix that is returned. By default all nodes have 'X' in them. As they are visited these will be\n",
    "    #replaced with the number of steps necessary to reach that node from the start.\n",
    "    result_matrix = [['X' for x in range(n)] for y in range(n)]\n",
    "    #The queue which stores the next grid location to check. Grid locations are stored as a number x, where\n",
    "    #x // n is its row and x % n is its column.\n",
    "    FIFO = []\n",
    "    #The main loop of this function requires FIFO to already have values, so the\n",
    "    #start point is done before the main loop\n",
    "    result_matrix[0][0] = 0\n",
    "    #grid_face_value stores what value is on the grid - it shows how many spaces\n",
    "    #you can move from that face\n",
    "    grid_face_value = grid[0][0]\n",
    "    #current_depth_size keeps track of the remaining nodes to visit for each depth.\n",
    "    #Once a depth no longer has any nodes to visit, the depth is incremented.\n",
    "    current_depth_size = [0 for x in range(n ** 2)]\n",
    "    #Because the start is always in the top-left, you can just add the nodes to the right and below\n",
    "    #the start square.\n",
    "    FIFO.append(grid_face_value)\n",
    "    FIFO.append(grid_face_value * n)\n",
    "    current_depth_size[0] = 2\n",
    "    #Depth is set to 1 since only the start node takes 0 steps to reach.\n",
    "    depth = 1\n",
    "    #Repeat the loop until the BFS has exhausted all nodes.\n",
    "    while (len(FIFO) > 0):\n",
    "        #Pop the next instruction from the queue. This is an integer x which has x // n\n",
    "        #as its row and x % n as its column\n",
    "        next_instruction = FIFO.pop(0)\n",
    "        #Set the node pointed to by the next instruction as requiring \"depth\" steps to reach\n",
    "        result_matrix[next_instruction // n][next_instruction % n] = depth\n",
    "        #Because you popped an instruction, decrement the counter for the lower depth\n",
    "        current_depth_size[depth - 1] -= 1\n",
    "        #grid_face_value is the value that's shown on the grid and represents how far you can move\n",
    "        grid_face_value = grid[next_instruction //n][next_instruction % n]\n",
    "            #Testing going to the right according to the value on the grid\n",
    "        if ((next_instruction % n) + grid_face_value < n):\n",
    "            #If the results matrix shows 'X' that means it's not visited yet\n",
    "            if result_matrix[next_instruction // n][next_instruction % n + grid_face_value] == 'X':\n",
    "                FIFO.append(next_instruction + grid_face_value)\n",
    "                current_depth_size[depth] += 1\n",
    "        #Testing going to the left according to the value on the grid\n",
    "        if ((next_instruction % n) - grid_face_value >= 0):\n",
    "            if result_matrix[next_instruction // n][next_instruction % n - grid_face_value] == 'X':\n",
    "                FIFO.append(next_instruction - grid_face_value)\n",
    "                current_depth_size[depth] += 1\n",
    "        #Testing going downward according to the value on the grid\n",
    "        if (next_instruction // n + grid_face_value < n):\n",
    "            if result_matrix[(next_instruction // n) + grid_face_value][next_instruction % n] == 'X':\n",
    "                FIFO.append(next_instruction + grid_face_value * n)\n",
    "                current_depth_size[depth] += 1\n",
    "        #Testing going upward according to the value on the grid\n",
    "        if (next_instruction // n - grid_face_value >= 0):\n",
    "            if result_matrix[(next_instruction // n) - grid_face_value][next_instruction % n] == 'X':\n",
    "                FIFO.append(next_instruction - grid_face_value * n)\n",
    "                current_depth_size[depth] += 1\n",
    "        #Once you exhaust all steps from the lower depth, increment depth\n",
    "        if (current_depth_size[depth - 1] == 0):\n",
    "            depth += 1\n",
    "    #Show a GUI if you want to\n",
    "    if show_gui == 1:\n",
    "        show_GUI(result_matrix)\n",
    "    return result_matrix    "
   ]
  },
  {
   "cell_type": "code",
   "execution_count": 19,
   "metadata": {
    "collapsed": true
   },
   "outputs": [],
   "source": [
    "#This function computes the value function.\n",
    "def compute_value(grid):\n",
    "    #The result matrix is assumed to be n x n.\n",
    "    result_matrix = BFS(grid, 0)\n",
    "    n = len(result_matrix[0])\n",
    "    value_function = 0\n",
    "    #If the lower right corner (the goal) has an X in it, then the value function is -1 times\n",
    "    #the number of X's in the result matrix (unvisited nodes).\n",
    "    if (result_matrix[n-1][n-1] == 'X'):\n",
    "        #Iterate through the entire result matrix\n",
    "        for x in range(n):\n",
    "            for y in range(n):\n",
    "                if result_matrix[x][y] == 'X':\n",
    "                    value_function -= 1\n",
    "    #Otherwise, the value function is the number of moves needed to reach the goal\n",
    "    else:\n",
    "        value_function = result_matrix[n-1][n-1]\n",
    "    return value_function"
   ]
  },
  {
   "cell_type": "code",
   "execution_count": null,
   "metadata": {
    "collapsed": true
   },
   "outputs": [],
   "source": []
  },
  {
   "cell_type": "code",
   "execution_count": 20,
   "metadata": {
    "collapsed": true
   },
   "outputs": [],
   "source": [
    "import random as r\n",
    "\n",
    "#Need to cover for equal values. If the random value is equal it has to be re-randomzied. \n",
    "#Also, randomize x and y as well.\n",
    "\n",
    "#A function to change a random tile in the given grid and return that changed grid\n",
    "def change_random_tile(grid):\n",
    "    n = len(grid[0])\n",
    "    new_grid = [i[:] for i in grid]\n",
    "    #Randomly select a tile to change. If it chooses the lower right tile, the goal tile,\n",
    "    #then randomly choose another y value. Keep repeating if you keep getting the goal tile\n",
    "    random_x = r.randint(0,n-1)\n",
    "    random_y = r.randint(0,n-1)\n",
    "    while random_x == n-1 and random_y == n-1:\n",
    "        #ADDED RANDOMIZE X, BOTH VALUES WILL BE RANDOMIZED\n",
    "        random_x = r.randint(0,n-1)\n",
    "        random_y = r.randint(0,n-1)\n",
    "    #Compute the max possible values considering only x or y separately. Then take the max of both\n",
    "    #to get the max face value.\n",
    "    max_x = max(random_x, n - 1 - random_x)\n",
    "    max_y = max(random_y, n - 1 - random_y)\n",
    "    max_face_value = max(max_x, max_y)\n",
    "    \n",
    "    #Modify the grid according to those random parameters\n",
    "    #Including a clause to repeat the random repitition until the value is different from the original\n",
    "    newVal = r.randint(1,max_face_value)\n",
    "    while newVal == new_grid[random_x][random_y]:\n",
    "        newVal = r.randint(1,max_face_value)\n",
    "    new_grid[random_x][random_y] = newVal\n",
    "    return new_grid"
   ]
  },
  {
   "cell_type": "code",
   "execution_count": 21,
   "metadata": {
    "collapsed": true
   },
   "outputs": [],
   "source": [
    "#A function to randomly change the puzzle to try and maximize the value function\n",
    "#The show_gui argument determines whether to show a GUI at the conclusion of the function or not.\n",
    "def hill_climbing(n, iterations, show_gui):\n",
    "    grid = arrayGen(n)\n",
    "    #This variable keeps track of what the best puzzle layout so far has been\n",
    "    best_grid = [i[:] for i in grid]\n",
    "    #This variable keeps track of the value function of the best puzzle layout so far\n",
    "    best_value = compute_value(best_grid)\n",
    "    #This variable keeps track of how many iterations it required to get to the best current value\n",
    "    best_iteration_number = 0\n",
    "    #All grids are assumed to be n x n, so this stores the length of a side\n",
    "    n = len(grid[0])\n",
    "    #Keep running the hill climbing algorithm until the required number of iterations has been done\n",
    "    for x in range(iterations):\n",
    "        #Modify the new grid by changing one tile\n",
    "        new_grid = change_random_tile(best_grid)\n",
    "        \n",
    "        new_value = compute_value(new_grid)\n",
    "        #If the new grid is better than the previous best grid, update all the bests\n",
    "        if new_value >= best_value:\n",
    "            best_grid = [i[:] for i in new_grid]\n",
    "            best_value = new_value\n",
    "            best_iteration_number = x\n",
    "    \n",
    "    #Show a GUI if you want to\n",
    "    if show_gui == 1:\n",
    "        print(\"Best iteration number is\", best_iteration_number + 1)\n",
    "        show_GUI(best_grid)\n",
    "    return best_value"
   ]
  },
  {
   "cell_type": "code",
   "execution_count": null,
   "metadata": {
    "collapsed": true
   },
   "outputs": [],
   "source": []
  },
  {
   "cell_type": "code",
   "execution_count": null,
   "metadata": {
    "collapsed": true
   },
   "outputs": [],
   "source": []
  },
  {
   "cell_type": "code",
   "execution_count": 22,
   "metadata": {
    "collapsed": true
   },
   "outputs": [],
   "source": [
    "#A function to perform hill climbing with random restarts. The parameters are the size of the side of the grid,\n",
    "#the number of iterations per hill climb, and how many times to restart.\n",
    "#The show_gui argument determines whether to show a GUI at the conclusion of the function or not.\n",
    "def random_restarts(n, iterations, restarts, show_gui):\n",
    "    #Store the best grid, best value, and best restart number from the restarts\n",
    "    best_grid = []\n",
    "    best_value = 0\n",
    "    best_restart = 0\n",
    "    #Perform the hill climbming algorithm oncec for every restart\n",
    "    for x in range(restarts):\n",
    "        #For every restart, start with an entirely new grid\n",
    "        grid = arrayGen(n)\n",
    "        #Run the hill climbing algorithm on the randomly created new grid and calculate its value\n",
    "        current_grid = hill_climbing(grid, iterations, 0)\n",
    "        current_value = compute_value(current_grid)\n",
    "        #If the hill climbing algorithm generated the best value, then update all the best variables\n",
    "        if current_value >= best_value:\n",
    "            best_value = current_value\n",
    "            best_grid = [i[:] for i in current_grid]\n",
    "            best_restart = x \n",
    "    \n",
    "    #Show a GUI if you want to\n",
    "    if show_gui == 1:\n",
    "        print(\"Best restart number is\", best_restart)\n",
    "        show_GUI(best_grid)\n",
    "    #Return the best grid\n",
    "    return best_value\n",
    "            "
   ]
  },
  {
   "cell_type": "code",
   "execution_count": null,
   "metadata": {
    "collapsed": true
   },
   "outputs": [],
   "source": []
  },
  {
   "cell_type": "raw",
   "metadata": {},
   "source": []
  },
  {
   "cell_type": "code",
   "execution_count": 23,
   "metadata": {
    "collapsed": true
   },
   "outputs": [],
   "source": [
    "import random as r\n",
    "\n",
    "#Parameters: inputGrid, number of iterations to perform, the probability \n",
    "#The show_gui argument determines whether to show a GUI at the conclusion of the function or not.\n",
    "def random_walk(n, iterations, walkThresh, show_gui):\n",
    "    grid = arrayGen(n)\n",
    "    #This variable keeps track of what the best puzzle layout so far has been\n",
    "    best_grid = [i[:] for i in grid]\n",
    "    #This variable keeps track of the value function of the best puzzle layout so far\n",
    "    best_value = compute_value(best_grid)\n",
    "    #This variable keeps track of how many iterations it required to get to the best current value\n",
    "    best_iteration_number = 0\n",
    "    #All grids are assumed to be n x n, so this stores the length of a side\n",
    "    n = len(grid[0])\n",
    "    #Keep running the hill climbing algorithm until the required number of iterations has been done\n",
    "    for x in range(iterations):\n",
    "        #Modify the new grid by changing one tile\n",
    "        new_grid = change_random_tile(best_grid)\n",
    "        \n",
    "        new_value = compute_value(new_grid)\n",
    "        \n",
    "        #NEW CODE - WOW\n",
    "        #Generate a random value between 0.0 and 1.0\n",
    "        walkProb = r.random()\n",
    "        \n",
    "        #The random probability threshhold is passed. Continue with Hill-climbing procedure\n",
    "        if walkProb > walkThresh:\n",
    "            #If the new grid is better than the previous best grid, update all the bests\n",
    "            if new_value >= best_value:\n",
    "                best_grid = [i[:] for i in new_grid]\n",
    "                best_value = new_value\n",
    "                best_iteration_number = x\n",
    "        #The random probability threshhold was not passed. Walk down, accept the change regardless of its relative value.\n",
    "        else:\n",
    "            best_grid = [i[:] for i in new_grid]\n",
    "            best_value = new_value\n",
    "            best_iteration_number = x\n",
    "        \n",
    "    \n",
    "    #Show a GUI if you want to\n",
    "    if show_gui == 1:\n",
    "        print(\"Best iteration number is\", best_iteration_number + 1)\n",
    "        show_GUI(best_grid)\n",
    "    return best_value\n"
   ]
  },
  {
   "cell_type": "code",
   "execution_count": null,
   "metadata": {
    "collapsed": true
   },
   "outputs": [],
   "source": []
  },
  {
   "cell_type": "code",
   "execution_count": 24,
   "metadata": {
    "collapsed": true
   },
   "outputs": [],
   "source": [
    "import math as m\n",
    "\n",
    "#A function to simulate annealing for the given grid.\n",
    "#grid is the grid to run it on, iterations states how many times to run the algorithm ,\n",
    "#start_temperature is the starting temperature, decay is the decay rate, and show_gui \n",
    "#shows the GUI for the best puzzle if set to 1\n",
    "def simulated_annealing(n, iterations, start_temperature, decay, show_gui):\n",
    "    grid = arrayGen(n)\n",
    "    #This variable keeps track of what the best puzzle layout so far has been\n",
    "    best_grid = [i[:] for i in grid]\n",
    "    #This variable keeps track of the value function of the best puzzle layout so far\n",
    "    best_value = compute_value(best_grid)\n",
    "    #This variable keeps track of how many iterations it required to get to the best current value\n",
    "    best_iteration_number = 0\n",
    "    #All grids are assumed to be n x n, so this stores the length of a side\n",
    "    n = len(grid[0])\n",
    "    #This variable keeps track of the current temperature of the process\n",
    "    temp = start_temperature\n",
    "    #Keep running the hill climbing algorithm until the required number of iterations has been done\n",
    "    for x in range(iterations):\n",
    "        #Modify the new grid by changing one tile\n",
    "        new_grid = change_random_tile(best_grid)\n",
    "        \n",
    "        new_value = compute_value(new_grid)\n",
    "    \n",
    "        #Calculate the probability of the change being accepted\n",
    "        #Because this results in a huge number if temp is exceedingly small, change temp_prob to 1 if an overflow error occurs\n",
    "        try:\n",
    "            temp_prob = m.exp((new_value - best_value) / temp)\n",
    "        except OverflowError:\n",
    "            temp_prob = 1\n",
    "        #Calculate a random value to compare to the temp_prob\n",
    "        randInt = r.random()\n",
    "\n",
    "        #The random probability threshhold is passed, accept it regardless of whether it's better\n",
    "        if randInt < temp_prob:\n",
    "            best_grid = [i[:] for i in new_grid]\n",
    "            if new_value >= best_value:\n",
    "                best_value = new_value\n",
    "                best_iteration_number = x\n",
    "        #The random probability threshhold was not passed, ignore the change\n",
    "           \n",
    "        #Decay the temperature according to the decay rate\n",
    "        temp = temp * decay\n",
    "        \n",
    "    #Show a GUI if you want to\n",
    "    if show_gui == 1:\n",
    "        print(\"Best iteration number is\", best_iteration_number + 1)\n",
    "        show_GUI(best_grid)\n",
    "    return best_value"
   ]
  },
  {
   "cell_type": "code",
   "execution_count": null,
   "metadata": {
    "collapsed": true
   },
   "outputs": [],
   "source": []
  },
  {
   "cell_type": "code",
   "execution_count": 25,
   "metadata": {
    "collapsed": true
   },
   "outputs": [],
   "source": [
    "\n",
    "#A function to cross over between grids\n",
    "#The input must be a flattened 1-d representation of a grid, and the position states where to switch over\n",
    "def cross_over(grids, position):\n",
    "    new_grids = [i[:] for i in grids]\n",
    "    cross_over_portions = []\n",
    "    #Delete the parts of the arrays after the crossover position after storing them\n",
    "    for x in range(len(new_grids)):\n",
    "        cross_over_portions.append(new_grids[x][position:])\n",
    "        del new_grids[x][position:]\n",
    "    #Add the crossover portions to the next grid in the array\n",
    "    for x in range(len(cross_over_portions) - 1):\n",
    "         new_grids[x + 1].extend(cross_over_portions[x])\n",
    "    #Loop over to the beginning with the crossing over\n",
    "    new_grids[0].extend(cross_over_portions[len(cross_over_portions) - 1])\n",
    "    return new_grids"
   ]
  },
  {
   "cell_type": "code",
   "execution_count": 26,
   "metadata": {
    "collapsed": true
   },
   "outputs": [],
   "source": [
    "#A function to change a 2-d array into a 1-d array\n",
    "def flatten_array(inArray):\n",
    "    outArray=[]\n",
    "    \n",
    "    for x in range(len(inArray)):\n",
    "        outArray.extend(inArray[x])\n",
    "        \n",
    "    return outArray"
   ]
  },
  {
   "cell_type": "code",
   "execution_count": 27,
   "metadata": {
    "collapsed": true
   },
   "outputs": [],
   "source": [
    "#A function to change a 1-d array into a 2-d array with sides of length n\n",
    "def unflatten_array(array, n):\n",
    "    new_array = [[0 for x in range(n)] for y in range(n)]\n",
    "    for x in range(n):\n",
    "        for y in range(n):\n",
    "            new_array[x][y] = array[x * n + y]\n",
    "    return new_array"
   ]
  },
  {
   "cell_type": "code",
   "execution_count": null,
   "metadata": {
    "collapsed": true
   },
   "outputs": [],
   "source": []
  },
  {
   "cell_type": "code",
   "execution_count": 28,
   "metadata": {
    "collapsed": true
   },
   "outputs": [],
   "source": [
    "#A function to assign probabilities to select each grid\n",
    "def selection (fitnessArr):\n",
    "    #Initializing relevant data structures.\n",
    "    selectionVals = []\n",
    "    \n",
    "    #Initializing relevant variables.\n",
    "    idealValue = len(fitnessArr[0][0][0])**2\n",
    "    fitnessTotal = 0.0\n",
    "    \n",
    "    fitness = []\n",
    "    \n",
    "    #Iterating through all fitness values in 4D fitness array.\n",
    "    for x in range(len(fitnessArr)):\n",
    "        #Calculating Difference from ideal, reciprocating it, and keeping a running total\n",
    "        try:\n",
    "            fitness.append(1/(idealValue-fitnessArr[x][1]))\n",
    "            fitnessTotal += fitness[x]\n",
    "        #Exception handling in the event we randomly produce the perfect puzzle. All other selection values become zero.\n",
    "        #The position of the best puzzle is maintained and utilized\n",
    "        except ZeroDivisionError:\n",
    "            uber_array = [0 for x in range(len(fitnessArr))]\n",
    "            uber_array[x] = 1\n",
    "            return uber_array\n",
    "        \n",
    "    \n",
    "    #Dividing all values in the grid Population by the fitness total to generate a selection probability-\n",
    "    # -and appending them, in order, to the output array holding selection probabilities.\n",
    "    for x in range(len(fitness)):\n",
    "        selectionVals.append(fitness[x]/fitnessTotal)\n",
    "        \n",
    "    return selectionVals\n"
   ]
  },
  {
   "cell_type": "code",
   "execution_count": 29,
   "metadata": {
    "collapsed": true
   },
   "outputs": [],
   "source": [
    "#A genetic algorithm that takes the size of the sides of the grid, the number of iterations,\n",
    "#the crossover position, the population size, and whether to show the gui as inputs\n",
    "def genetic_algorithm(n, iterations, crossover_position, population_size, show_gui):\n",
    "    #Store the best grid and value\n",
    "    best_grid = []\n",
    "    best_value = 0\n",
    "    #The population will constantly be changing\n",
    "    population = []\n",
    "    #Initialize the population with random grids\n",
    "    for x in range(population_size):\n",
    "        new_grid = arrayGen(n)\n",
    "        population.append(new_grid)\n",
    "    #Repeat the genetic algorithm the number of times of iterations\n",
    "    for x in range(iterations):\n",
    "        #The fitness array holds the grids and their values\n",
    "        fitness = []\n",
    "        for y in range(len(population)):\n",
    "            fitness.append([population[y], compute_value(population[y])])\n",
    "        #Probabilities holds the probability of each grid being selected to survive into the next population\n",
    "        probabilities = selection(fitness)\n",
    "        #The population thresholds measure which numbers the random number generator must fall between to\n",
    "        #select that grid to survive to the next population\n",
    "        probability_thresholds = [0]\n",
    "        for p in range(len(probabilities)):\n",
    "            probability_thresholds.append(probability_thresholds[p] + probabilities[p])\n",
    "        #A new population is created and randomly selected from the previous, weighted by their values\n",
    "        new_population = []\n",
    "        for s in range(len(population)):\n",
    "            rand_int = r.random()\n",
    "            for p in range(len(probability_thresholds) - 1):\n",
    "                if rand_int > probability_thresholds[p] and rand_int < probability_thresholds[p + 1]:\n",
    "                    new_population.append(population[p])\n",
    "        #Transform the population into flat forms for crossing over\n",
    "        flat_population = []\n",
    "        for m in range(len(new_population)):\n",
    "            flat_population.append(flatten_array(new_population[m]))\n",
    "        #If the crossover position is negative, then choose a random crossing over point for every iteration\n",
    "        if crossover_position > 0:\n",
    "            flat_population = cross_over(flat_population, crossover_position)\n",
    "        else:\n",
    "            random_position = r.randint(1, (n * n) - 2)\n",
    "            flat_population = cross_over(flat_population, random_position)\n",
    "        #Unflatten the population and randomly mutate it\n",
    "        new_population = []\n",
    "        for m in range(len(flat_population)):\n",
    "            new_population.append(unflatten_array(flat_population[m], n))\n",
    "            new_population[m] = change_random_tile(new_population[m])\n",
    "        #Check to see if a new best grid has arisen from the process\n",
    "        for x in range(len(new_population)):\n",
    "            value = compute_value(new_population[m])\n",
    "            if value >= best_value:\n",
    "                best_grid = [i[:] for i in new_population[m]]\n",
    "                best_value = value\n",
    "        population = [i for i in new_population]\n",
    "    #If show GUi is on, show a GUI of the best grid and print the best value\n",
    "    if show_gui == 1:\n",
    "        show_GUI(best_grid)\n",
    "    return best_value"
   ]
  },
  {
   "cell_type": "code",
   "execution_count": null,
   "metadata": {
    "collapsed": true
   },
   "outputs": [],
   "source": []
  },
  {
   "cell_type": "code",
   "execution_count": 32,
   "metadata": {
    "collapsed": false
   },
   "outputs": [
    {
     "data": {
      "image/png": "[encoded data removed]",
      "text/plain": [
       "<matplotlib.figure.Figure at 0x19ecfdefda0>"
      ]
     },
     "metadata": {},
     "output_type": "display_data"
    }
   ],
   "source": [
    "import matplotlib.pyplot as plt\n",
    "\n",
    "plt.plot([1, 2, 3, 4], [5, 6, 1, 3])\n",
    "plt.ylabel(\"Bluh\")\n",
    "plt.xlabel(\"yeh\")\n",
    "plt.show()"
   ]
  },
  {
   "cell_type": "code",
   "execution_count": 34,
   "metadata": {
    "collapsed": false
   },
   "outputs": [
    {
     "ename": "TypeError",
     "evalue": "'list' object cannot be interpreted as an integer",
     "output_type": "error",
     "traceback": [
      "\u001b[0;31m---------------------------------------------------------------------------\u001b[0m",
      "\u001b[0;31mTypeError\u001b[0m                                 Traceback (most recent call last)",
      "\u001b[0;32m<ipython-input-34-ffe29fd5b41d>\u001b[0m in \u001b[0;36m<module>\u001b[0;34m()\u001b[0m\n\u001b[1;32m      4\u001b[0m \u001b[0my_axis\u001b[0m \u001b[1;33m=\u001b[0m \u001b[1;33m[\u001b[0m\u001b[1;33m]\u001b[0m\u001b[1;33m\u001b[0m\u001b[0m\n\u001b[1;32m      5\u001b[0m \u001b[1;33m\u001b[0m\u001b[0m\n\u001b[0;32m----> 6\u001b[0;31m \u001b[1;32mfor\u001b[0m \u001b[0mx\u001b[0m \u001b[1;32min\u001b[0m \u001b[0mrange\u001b[0m\u001b[1;33m(\u001b[0m\u001b[0miterations\u001b[0m\u001b[1;33m)\u001b[0m\u001b[1;33m:\u001b[0m\u001b[1;33m\u001b[0m\u001b[0m\n\u001b[0m\u001b[1;32m      7\u001b[0m     \u001b[0mhill_climbing_sum\u001b[0m \u001b[1;33m=\u001b[0m \u001b[1;36m0\u001b[0m\u001b[1;33m\u001b[0m\u001b[0m\n\u001b[1;32m      8\u001b[0m     \u001b[1;32mfor\u001b[0m \u001b[0my\u001b[0m \u001b[1;32min\u001b[0m \u001b[0mrange\u001b[0m\u001b[1;33m(\u001b[0m\u001b[1;36m50\u001b[0m\u001b[1;33m)\u001b[0m\u001b[1;33m:\u001b[0m\u001b[1;33m\u001b[0m\u001b[0m\n",
      "\u001b[0;31mTypeError\u001b[0m: 'list' object cannot be interpreted as an integer"
     ]
    }
   ],
   "source": [
    "iterations = [1000, 5000, 10000, 15000, 20000]\n",
    "\n",
    "x_axis = []\n",
    "y_axis = []\n",
    "\n",
    "for x in range(len(iterations)):\n",
    "    hill_climbing_sum = 0\n",
    "    for y in range(50):\n",
    "        hill_climbing_sum += hill_climbing(5, iterations[x], 0)\n",
    "\n",
    "    hill_climbing_average = hill_climbing_sum / 50\n",
    "\n",
    "    x_axis.append(iterations[x])\n",
    "    y_axis.append(hill_climbing_average)\n",
    "\n",
    "plt.plot(x_axis, y_axis)\n",
    "plt.ylabel(\"Average Value\")\n",
    "plt.xlabel(\"Iterations\")\n",
    "plt.show()\n"
   ]
  },
  {
   "cell_type": "code",
   "execution_count": null,
   "metadata": {
    "collapsed": false
   },
   "outputs": [],
   "source": []
  },
  {
   "cell_type": "code",
   "execution_count": null,
   "metadata": {
    "collapsed": false
   },
   "outputs": [],
   "source": []
  },
  {
   "cell_type": "code",
   "execution_count": null,
   "metadata": {
    "collapsed": false
   },
   "outputs": [],
   "source": []
  },
  {
   "cell_type": "code",
   "execution_count": null,
   "metadata": {
    "collapsed": false
   },
   "outputs": [],
   "source": []
  },
  {
   "cell_type": "code",
   "execution_count": null,
   "metadata": {
    "collapsed": false
   },
   "outputs": [],
   "source": []
  },
  {
   "cell_type": "code",
   "execution_count": null,
   "metadata": {
    "collapsed": true
   },
   "outputs": [],
   "source": []
  },
  {
   "cell_type": "code",
   "execution_count": null,
   "metadata": {
    "collapsed": true
   },
   "outputs": [],
   "source": []
  },
  {
   "cell_type": "code",
   "execution_count": null,
   "metadata": {
    "collapsed": true
   },
   "outputs": [],
   "source": []
  }
 ],
 "metadata": {
  "kernelspec": {
   "display_name": "Python 3",
   "language": "python",
   "name": "python3"
  },
  "language_info": {
   "codemirror_mode": {
    "name": "ipython",
    "version": 3
   },
   "file_extension": ".py",
   "mimetype": "text/x-python",
   "name": "python",
   "nbconvert_exporter": "python",
   "pygments_lexer": "ipython3",
   "version": "3.6.0"
  }
 },
 "nbformat": 4,
 "nbformat_minor": 2
}
