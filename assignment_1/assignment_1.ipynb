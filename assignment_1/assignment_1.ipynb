{
 "cells": [
  {
   "cell_type": "code",
   "execution_count": 16,
   "metadata": {
    "collapsed": false
   },
   "outputs": [],
   "source": [
    "#A function to return an array given a file name that points to a text file containing numbers in a grid pattern\n",
    "def read_file(file_name):\n",
    "    #Open the file and then set the length of an array side based on how many lines long it is\n",
    "    file = open(file_name, \"r\")\n",
    "    n = len(file.readlines())\n",
    "    #Have to close and open the file again to reset file pointer back to the top of the file\n",
    "    file.close()\n",
    "    file = open(file_name, \"r\")\n",
    "    #Create an empty array and set its rows to be arrays\n",
    "    arr = [[0 for x in range(n)] for y in range(n)]\n",
    "    x=0\n",
    "    for line in file:\n",
    "        #Because the new line character \\n is included, you have to replace it with \"\" and then split based on spaces\n",
    "        arr[x] = line.replace(\"\\n\", \"\").split(\" \")\n",
    "        x += 1\n",
    "    file.close()\n",
    "    #Return the finished array\n",
    "    return arr"
   ]
  },
  {
   "cell_type": "code",
   "execution_count": 17,
   "metadata": {
    "collapsed": false
   },
   "outputs": [
    {
     "data": {
      "text/plain": [
       "[['2', '2', '2', '4', '3'],\n",
       " ['2', '2', '3', '3', '3'],\n",
       " ['3', '3', '2', '3', '3'],\n",
       " ['4', '3', '2', '2', '2'],\n",
       " ['1', '2', '1', '4', '0']]"
      ]
     },
     "execution_count": 17,
     "metadata": {},
     "output_type": "execute_result"
    }
   ],
   "source": [
    "read_file(\"test_array.txt\")"
   ]
  },
  {
   "cell_type": "code",
   "execution_count": null,
   "metadata": {
    "collapsed": false
   },
   "outputs": [],
   "source": []
  },
  {
   "cell_type": "code",
   "execution_count": null,
   "metadata": {
    "collapsed": false
   },
   "outputs": [],
   "source": []
  },
  {
   "cell_type": "code",
   "execution_count": null,
   "metadata": {
    "collapsed": false
   },
   "outputs": [],
   "source": []
  },
  {
   "cell_type": "code",
   "execution_count": 18,
   "metadata": {
    "collapsed": true
   },
   "outputs": [],
   "source": [
    "import tkinter as tk\n",
    "import random as r\n",
    "\n",
    "class puzzleGrid:\n",
    "    \n",
    "    #A constructor for intializing a map.\n",
    "    def __init__(self, master, inArray):\n",
    "        #Assigning the 2D array's 1D size to a variable\n",
    "        gridDim = len(inArray)\n",
    "        #Generating a NxN grid based upon the input 2D array\n",
    "        for i in range(gridDim):\n",
    "            for j in range(gridDim):\n",
    "                #Int values stored in the 2D array are converted to strings before display in the GUI grid.\n",
    "                tk.Label(master, text = str(inArray[i][j]), padx = 10, pady = 10, relief = \"sunken\").grid(row=i, column=j)\n",
    "\n",
    "#A function for generating a gradient value between provided 2D array dimensions, X-value, and Y-value.\n",
    "#To be used to generate puzzles containing only legal moves.\n",
    "def randomGradientGen(inDim, xVal, yVal):\n",
    "    max_x = max(xVal, inDim - 1 - xVal)\n",
    "    max_y = max(yVal, inDim - 1 - yVal)\n",
    "    max_value = max(max_x, max_y)\n",
    "    \n",
    "    outInt = r.randint(1,max_value)\n",
    "    \n",
    "    return outInt\n",
    "    \n",
    "def arrayGen(inDim):\n",
    "\n",
    "    #Our output array, Filling with random numbers with legal moves.\n",
    "    newArr = [[randomGradientGen(inDim, x, y) for x in range(inDim)] for y in range(inDim)]\n",
    "    #Setting goal to zero\n",
    "    newArr[inDim-1][inDim-1] = 0\n",
    "    return newArr\n",
    "\n",
    "def show_GUI(arr):\n",
    "    master = tk.Tk()\n",
    "    master.resizable(width=False, height=False)\n",
    "    newGrid = puzzleGrid(master, arr)\n",
    "    master.mainloop()\n",
    "\n",
    "x = arrayGen(5)\n",
    "show_GUI(x)\n"
   ]
  },
  {
   "cell_type": "code",
   "execution_count": null,
   "metadata": {
    "collapsed": true
   },
   "outputs": [],
   "source": []
  },
  {
   "cell_type": "code",
   "execution_count": null,
   "metadata": {
    "collapsed": false
   },
   "outputs": [],
   "source": []
  },
  {
   "cell_type": "code",
   "execution_count": null,
   "metadata": {
    "collapsed": true
   },
   "outputs": [],
   "source": []
  },
  {
   "cell_type": "code",
   "execution_count": 19,
   "metadata": {
    "collapsed": true
   },
   "outputs": [],
   "source": [
    "#A function to return a matrix containing the number of steps required to reach each node in a given grid. If\n",
    "#the node can't be reached, an 'X' appears there instead.\n",
    "#The show_gui argument determines whether to show a GUI at the conclusion of the function or not.\n",
    "def BFS(grid, show_gui):\n",
    "    #Each grid is assumed to be n x n, so n is taken to be the length of one row of the grid\n",
    "    n = len(grid[0])\n",
    "    #This is the matrix that is returned. By default all nodes have 'X' in them. As they are visited these will be\n",
    "    #replaced with the number of steps necessary to reach that node from the start.\n",
    "    result_matrix = [['X' for x in range(n)] for y in range(n)]\n",
    "    #The queue which stores the next grid location to check. Grid locations are stored as a number x, where\n",
    "    #x // n is its row and x % n is its column.\n",
    "    FIFO = []\n",
    "    #The main loop of this function requires FIFO to already have values, so the\n",
    "    #start point is done before the main loop\n",
    "    result_matrix[0][0] = 0\n",
    "    #grid_face_value stores what value is on the grid - it shows how many spaces\n",
    "    #you can move from that face\n",
    "    grid_face_value = grid[0][0]\n",
    "    #current_depth_size keeps track of the remaining nodes to visit for each depth.\n",
    "    #Once a depth no longer has any nodes to visit, the depth is incremented.\n",
    "    current_depth_size = [0 for x in range(n ** 2)]\n",
    "    #Because the start is always in the top-left, you can just add the nodes to the right and below\n",
    "    #the start square.\n",
    "    FIFO.append(grid_face_value)\n",
    "    FIFO.append(grid_face_value * n)\n",
    "    current_depth_size[0] = 2\n",
    "    #Depth is set to 1 since only the start node takes 0 steps to reach.\n",
    "    depth = 1\n",
    "    #Repeat the loop until the BFS has exhausted all nodes.\n",
    "    while (len(FIFO) > 0):\n",
    "        #Pop the next instruction from the queue. This is an integer x which has x // n\n",
    "        #as its row and x % n as its column\n",
    "        next_instruction = FIFO.pop(0)\n",
    "        #Set the node pointed to by the next instruction as requiring \"depth\" steps to reach\n",
    "        result_matrix[next_instruction // n][next_instruction % n] = depth\n",
    "        #Because you popped an instruction, decrement the counter for the lower depth\n",
    "        current_depth_size[depth - 1] -= 1\n",
    "        #grid_face_value is the value that's shown on the grid and represents how far you can move\n",
    "        grid_face_value = grid[next_instruction //n][next_instruction % n]\n",
    "            #Testing going to the right according to the value on the grid\n",
    "        if ((next_instruction % n) + grid_face_value < n):\n",
    "            #If the results matrix shows 'X' that means it's not visited yet\n",
    "            if result_matrix[next_instruction // n][next_instruction % n + grid_face_value] == 'X':\n",
    "                FIFO.append(next_instruction + grid_face_value)\n",
    "                current_depth_size[depth] += 1\n",
    "        #Testing going to the left according to the value on the grid\n",
    "        if ((next_instruction % n) - grid_face_value >= 0):\n",
    "            if result_matrix[next_instruction // n][next_instruction % n - grid_face_value] == 'X':\n",
    "                FIFO.append(next_instruction - grid_face_value)\n",
    "                current_depth_size[depth] += 1\n",
    "        #Testing going downward according to the value on the grid\n",
    "        if (next_instruction // n + grid_face_value < n):\n",
    "            if result_matrix[(next_instruction // n) + grid_face_value][next_instruction % n] == 'X':\n",
    "                FIFO.append(next_instruction + grid_face_value * n)\n",
    "                current_depth_size[depth] += 1\n",
    "        #Testing going upward according to the value on the grid\n",
    "        if (next_instruction // n - grid_face_value >= 0):\n",
    "            if result_matrix[(next_instruction // n) - grid_face_value][next_instruction % n] == 'X':\n",
    "                FIFO.append(next_instruction - grid_face_value * n)\n",
    "                current_depth_size[depth] += 1\n",
    "        #Once you exhaust all steps from the lower depth, increment depth\n",
    "        if (current_depth_size[depth - 1] == 0):\n",
    "            depth += 1\n",
    "    #Show a GUI if you want to\n",
    "    if show_gui == 1:\n",
    "        show_GUI(result_matrix)\n",
    "    return result_matrix    "
   ]
  },
  {
   "cell_type": "code",
   "execution_count": 20,
   "metadata": {
    "collapsed": true
   },
   "outputs": [],
   "source": [
    "#This function computes the value function.\n",
    "def compute_value(grid):\n",
    "    #The result matrix is assumed to be n x n.\n",
    "    result_matrix = BFS(grid, 0)\n",
    "    n = len(result_matrix[0])\n",
    "    value_function = 0\n",
    "    #If the lower right corner (the goal) has an X in it, then the value function is -1 times\n",
    "    #the number of X's in the result matrix (unvisited nodes).\n",
    "    if (result_matrix[n-1][n-1] == 'X'):\n",
    "        #Iterate through the entire result matrix\n",
    "        for x in range(n):\n",
    "            for y in range(n):\n",
    "                if result_matrix[x][y] == 'X':\n",
    "                    value_function -= 1\n",
    "    #Otherwise, the value function is the number of moves needed to reach the goal\n",
    "    else:\n",
    "        value_function = result_matrix[n-1][n-1]\n",
    "    return value_function"
   ]
  },
  {
   "cell_type": "code",
   "execution_count": 21,
   "metadata": {
    "collapsed": false
   },
   "outputs": [],
   "source": [
    "test_matrix = [[2,2,2,4,3],[2,2,3,3,3],[3,3,2,3,3],[4,3,2,2,2],[1,2,1,4,0]]\n",
    "result_matrix = BFS(test_matrix, 1)"
   ]
  },
  {
   "cell_type": "code",
   "execution_count": null,
   "metadata": {
    "collapsed": true
   },
   "outputs": [],
   "source": []
  },
  {
   "cell_type": "code",
   "execution_count": 22,
   "metadata": {
    "collapsed": true
   },
   "outputs": [],
   "source": [
    "import random as r\n",
    "\n",
    "#A function to randomly change the puzzle to try and maximize the value function\n",
    "#The show_gui argument determines whether to show a GUI at the conclusion of the function or not.\n",
    "def hill_climbing(grid, iterations, show_gui):\n",
    "    #This variable keeps track of what the best puzzle layout so far has been\n",
    "    best_grid = [i[:] for i in grid]\n",
    "    #This variable keeps track of the value function of the best puzzle layout so far\n",
    "    best_value = compute_value(best_grid)\n",
    "    #This variable keeps track of how many iterations it required to get to the best current value\n",
    "    best_iteration_number = 0\n",
    "    #All grids are assumed to be n x n, so this stores the length of a side\n",
    "    n = len(grid[0])\n",
    "    #Keep running the hill climbing algorithm until the required number of iterations has been done\n",
    "    for x in range(iterations):\n",
    "        #Modify the new grid by changing one tile\n",
    "        new_grid = [i[:] for i in best_grid]\n",
    "        #Randomly select a tile to change. If it chooses the lower right tile, the goal tile,\n",
    "        #then randomly choose another y value. Keep repeating if you keep getting the goal tile\n",
    "        random_x = r.randint(0,n-1)\n",
    "        random_y = r.randint(0,n-1)\n",
    "        while random_x == n-1 and random_y == n-1:\n",
    "            random_y = r.randint(0,n-1)\n",
    "        #Compute the max possible values considering only x or y separately. Then take the max of both\n",
    "        #to get the max face value.\n",
    "        max_x = max(random_x, n - 1 - random_x)\n",
    "        max_y = max(random_y, n - 1 - random_y)\n",
    "        max_face_value = max(max_x, max_y)\n",
    "        #Modify the grid according to those random parameters\n",
    "        new_grid[random_x][random_y] = r.randint(1, max_face_value)\n",
    "        new_value = compute_value(new_grid)\n",
    "        #If the new grid is better than the previous best grid, update all the bests\n",
    "        if new_value > best_value:\n",
    "            best_grid = [i[:] for i in new_grid]\n",
    "            best_value = new_value\n",
    "            best_iteration_number = x\n",
    "    print(\"Best value is\", best_value)\n",
    "    print(\"Best iteration number is\", best_iteration_number + 1)\n",
    "    #Show a GUI if you want to\n",
    "    if show_gui == 1:\n",
    "        show_GUI(best_grid)\n",
    "    return best_grid"
   ]
  },
  {
   "cell_type": "code",
   "execution_count": 23,
   "metadata": {
    "collapsed": false
   },
   "outputs": [
    {
     "name": "stdout",
     "output_type": "stream",
     "text": [
      "Best value is 10\n",
      "Best iteration number is 75\n",
      "10\n"
     ]
    }
   ],
   "source": [
    "matrix = hill_climbing(test_matrix, 100, 1)\n",
    "print(compute_value(matrix))"
   ]
  },
  {
   "cell_type": "code",
   "execution_count": 24,
   "metadata": {
    "collapsed": true
   },
   "outputs": [],
   "source": [
    "#A function to perform hill climbing with random restarts. The parameters are the size of the side of the grid,\n",
    "#the number of iterations per hill climb, and how many times to restart.\n",
    "#The show_gui argument determines whether to show a GUI at the conclusion of the function or not.\n",
    "def random_restarts(n, iterations, restarts, show_gui):\n",
    "    #Store the best grid, best value, and best restart number from the restarts\n",
    "    best_grid = []\n",
    "    best_value = 0\n",
    "    best_restart = 0\n",
    "    #Perform the hill climbming algorithm oncec for every restart\n",
    "    for x in range(restarts):\n",
    "        #For every restart, start with an entirely new grid\n",
    "        grid = arrayGen(n)\n",
    "        #Run the hill climbing algorithm on the randomly created new grid and calculate its value\n",
    "        current_grid = hill_climbing(grid, iterations, 0)\n",
    "        current_value = compute_value(current_grid)\n",
    "        #If the hill climbing algorithm generated the best value, then update all the best variables\n",
    "        if current_value > best_value:\n",
    "            best_value = current_value\n",
    "            best_grid = [i[:] for i in current_grid]\n",
    "            best_restart = x\n",
    "    #Return the best grid\n",
    "    print(\"Best restart number is\", best_restart)\n",
    "    print(\"Best value is\", best_value + 1)\n",
    "    #Show a GUI if you want to\n",
    "    if show_gui == 1:\n",
    "        show_GUI(best_grid)\n",
    "    return best_grid\n",
    "            "
   ]
  },
  {
   "cell_type": "code",
   "execution_count": 25,
   "metadata": {
    "collapsed": false
   },
   "outputs": [
    {
     "name": "stdout",
     "output_type": "stream",
     "text": [
      "Best value is 16\n",
      "Best iteration number is 95\n",
      "Best value is 8\n",
      "Best iteration number is 41\n",
      "Best value is 7\n",
      "Best iteration number is 6\n",
      "Best value is 12\n",
      "Best iteration number is 63\n",
      "Best value is 7\n",
      "Best iteration number is 7\n",
      "Best value is 7\n",
      "Best iteration number is 1\n",
      "Best value is 11\n",
      "Best iteration number is 88\n",
      "Best value is 10\n",
      "Best iteration number is 88\n",
      "Best value is 5\n",
      "Best iteration number is 93\n",
      "Best value is 8\n",
      "Best iteration number is 73\n",
      "Best value is 8\n",
      "Best iteration number is 35\n",
      "Best value is 10\n",
      "Best iteration number is 51\n",
      "Best value is 8\n",
      "Best iteration number is 88\n",
      "Best value is 5\n",
      "Best iteration number is 1\n",
      "Best value is 10\n",
      "Best iteration number is 10\n",
      "Best value is 4\n",
      "Best iteration number is 1\n",
      "Best value is 11\n",
      "Best iteration number is 97\n",
      "Best value is 6\n",
      "Best iteration number is 17\n",
      "Best value is 7\n",
      "Best iteration number is 1\n",
      "Best value is 5\n",
      "Best iteration number is 13\n",
      "Best value is 5\n",
      "Best iteration number is 73\n",
      "Best value is 9\n",
      "Best iteration number is 44\n",
      "Best value is 12\n",
      "Best iteration number is 60\n",
      "Best value is 6\n",
      "Best iteration number is 56\n",
      "Best value is 10\n",
      "Best iteration number is 81\n",
      "Best value is 7\n",
      "Best iteration number is 5\n",
      "Best value is 5\n",
      "Best iteration number is 36\n",
      "Best value is 7\n",
      "Best iteration number is 1\n",
      "Best value is 5\n",
      "Best iteration number is 19\n",
      "Best value is 9\n",
      "Best iteration number is 74\n",
      "Best value is 7\n",
      "Best iteration number is 29\n",
      "Best value is 7\n",
      "Best iteration number is 12\n",
      "Best value is 10\n",
      "Best iteration number is 92\n",
      "Best value is 5\n",
      "Best iteration number is 70\n",
      "Best value is 7\n",
      "Best iteration number is 8\n",
      "Best value is 9\n",
      "Best iteration number is 61\n",
      "Best value is 8\n",
      "Best iteration number is 3\n",
      "Best value is 10\n",
      "Best iteration number is 5\n",
      "Best value is 9\n",
      "Best iteration number is 77\n",
      "Best value is 6\n",
      "Best iteration number is 19\n",
      "Best value is 12\n",
      "Best iteration number is 85\n",
      "Best value is 10\n",
      "Best iteration number is 82\n",
      "Best value is 11\n",
      "Best iteration number is 96\n",
      "Best value is 9\n",
      "Best iteration number is 25\n",
      "Best value is 6\n",
      "Best iteration number is 3\n",
      "Best value is 6\n",
      "Best iteration number is 15\n",
      "Best value is 7\n",
      "Best iteration number is 65\n",
      "Best value is 6\n",
      "Best iteration number is 29\n",
      "Best value is 10\n",
      "Best iteration number is 13\n",
      "Best value is 10\n",
      "Best iteration number is 82\n",
      "Best restart number is 0\n",
      "Best value is 17\n"
     ]
    },
    {
     "data": {
      "text/plain": [
       "[[3, 2, 2, 2, 4],\n",
       " [1, 2, 3, 3, 2],\n",
       " [3, 2, 2, 3, 4],\n",
       " [4, 2, 2, 1, 4],\n",
       " [3, 2, 4, 3, 0]]"
      ]
     },
     "execution_count": 25,
     "metadata": {},
     "output_type": "execute_result"
    }
   ],
   "source": [
    "random_restarts(5, 100, 50, 1)"
   ]
  },
  {
   "cell_type": "raw",
   "metadata": {},
   "source": [
    "\n"
   ]
  },
  {
   "cell_type": "code",
   "execution_count": 26,
   "metadata": {
    "collapsed": true
   },
   "outputs": [],
   "source": [
    "import random as r\n",
    "\n",
    "#Parameters: inputGrid, number of iterations to perform, the probability \n",
    "#The show_gui argument determines whether to show a GUI at the conclusion of the function or not.\n",
    "def random_walk(grid, iterations, walkThresh, show_gui):\n",
    "    #This variable keeps track of what the best puzzle layout so far has been\n",
    "    best_grid = [i[:] for i in grid]\n",
    "    #This variable keeps track of the value function of the best puzzle layout so far\n",
    "    best_value = compute_value(best_grid)\n",
    "    #This variable keeps track of how many iterations it required to get to the best current value\n",
    "    best_iteration_number = 0\n",
    "    #All grids are assumed to be n x n, so this stores the length of a side\n",
    "    n = len(grid[0])\n",
    "    #Keep running the hill climbing algorithm until the required number of iterations has been done\n",
    "    for x in range(iterations):\n",
    "        #Modify the new grid by changing one tile\n",
    "        new_grid = [i[:] for i in best_grid]\n",
    "        #Randomly select a tile to change. If it chooses the lower right tile, the goal tile,\n",
    "        #then randomly choose another y value. Keep repeating if you keep getting the goal tile\n",
    "        random_x = r.randint(0,n-1)\n",
    "        random_y = r.randint(0,n-1)\n",
    "        while random_x == n-1 and random_y == n-1:\n",
    "            random_y = r.randint(0,n-1)\n",
    "        #Compute the max possible values considering only x or y separately. Then take the max of both\n",
    "        #to get the max face value.\n",
    "        max_x = max(random_x, n - 1 - random_x)\n",
    "        max_y = max(random_y, n - 1 - random_y)\n",
    "        max_face_value = max(max_x, max_y)\n",
    "        #Modify the grid according to those random parameters\n",
    "        new_grid[random_x][random_y] = r.randint(1, max_face_value)\n",
    "        new_value = compute_value(new_grid)\n",
    "        \n",
    "        #NEW CODE - WOW\n",
    "        #Generate a random value between 0.0 and 1.0\n",
    "        walkProb = r.random()\n",
    "        \n",
    "        #The random probability threshhold is passed. Continue with Hill-climbing procedure\n",
    "        if walkProb > walkThresh:\n",
    "            #If the new grid is better than the previous best grid, update all the bests\n",
    "            if new_value > best_value:\n",
    "                best_grid = [i[:] for i in new_grid]\n",
    "                best_value = new_value\n",
    "                best_iteration_number = x\n",
    "        #The random probability threshhold was not passed. Walk down, accept the change regardless of its relative value.\n",
    "        else:\n",
    "            best_grid = [i[:] for i in new_grid]\n",
    "            best_value = new_value\n",
    "            best_iteration_number = x\n",
    "        \n",
    "    print(\"Best value is\", best_value)\n",
    "    print(\"Best iteration number is\", best_iteration_number + 1)\n",
    "    #Show a GUI if you want to\n",
    "    if show_gui == 1:\n",
    "        show_GUI(best_grid)\n",
    "    return best_grid\n"
   ]
  },
  {
   "cell_type": "code",
   "execution_count": 30,
   "metadata": {
    "collapsed": false
   },
   "outputs": [
    {
     "name": "stdout",
     "output_type": "stream",
     "text": [
      "Best value is 5\n",
      "Best iteration number is 98\n",
      "[[1, 1, 2, 4, 2], [3, 3, 3, 2, 3], [1, 1, 2, 3, 3], [4, 3, 1, 2, 4], [1, 4, 2, 4, 0]]\n",
      "5\n"
     ]
    }
   ],
   "source": [
    "test_matrix = arrayGen(5)\n",
    "matrix = random_walk(test_matrix, 100, 1, 1)\n",
    "print(matrix)\n",
    "print(compute_value(matrix))"
   ]
  },
  {
   "cell_type": "code",
   "execution_count": null,
   "metadata": {
    "collapsed": true
   },
   "outputs": [],
   "source": []
  }
 ],
 "metadata": {
  "kernelspec": {
   "display_name": "Python 3",
   "language": "python",
   "name": "python3"
  },
  "language_info": {
   "codemirror_mode": {
    "name": "ipython",
    "version": 3
   },
   "file_extension": ".py",
   "mimetype": "text/x-python",
   "name": "python",
   "nbconvert_exporter": "python",
   "pygments_lexer": "ipython3",
   "version": "3.6.0"
  }
 },
 "nbformat": 4,
 "nbformat_minor": 2
}
