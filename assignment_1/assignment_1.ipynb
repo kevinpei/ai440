{
 "cells": [
  {
   "cell_type": "code",
   "execution_count": 3,
   "metadata": {
    "collapsed": true
   },
   "outputs": [],
   "source": [
    "from tkinter import *\n",
    "from tkinter import ttk\n",
    "\n",
    "def calculate(*args):\n",
    "    try:\n",
    "        value = float(feet.get())\n",
    "        meters.set((0.3048 * value * 10000.0 + 0.5)/10000.0)\n",
    "    except ValueError:\n",
    "        pass\n",
    "    \n",
    "root = Tk()\n",
    "root.title(\"Feet to Meters\")\n",
    "\n",
    "mainframe = ttk.Frame(root, padding=\"3 3 12 12\")\n",
    "mainframe.grid(column=0, row=0, sticky=(N, W, E, S))\n",
    "mainframe.columnconfigure(0, weight=1)\n",
    "mainframe.rowconfigure(0, weight=1)\n",
    "\n",
    "feet = StringVar()\n",
    "meters = StringVar()\n",
    "\n",
    "feet_entry = ttk.Entry(mainframe, width=7, textvariable=feet)\n",
    "feet_entry.grid(column=2, row=1, sticky=(W, E))\n",
    "\n",
    "ttk.Label(mainframe, textvariable=meters).grid(column=2, row=2, sticky=(W, E))\n",
    "ttk.Button(mainframe, text=\"Calculate\", command=calculate).grid(column=3, row=3, sticky=W)\n",
    "\n",
    "ttk.Label(mainframe, text=\"feet\").grid(column=3, row=1, sticky=W)\n",
    "ttk.Label(mainframe, text=\"is equivalent to\").grid(column=1, row=2, sticky=E)\n",
    "ttk.Label(mainframe, text=\"meters\").grid(column=3, row=2, sticky=W)\n",
    "\n",
    "for child in mainframe.winfo_children(): child.grid_configure(padx=5, pady=5)\n",
    "\n",
    "feet_entry.focus()\n",
    "root.bind('<Return>', calculate)\n",
    "\n",
    "root.mainloop()"
   ]
  },
  {
   "cell_type": "code",
   "execution_count": 6,
   "metadata": {
    "collapsed": true
   },
   "outputs": [],
   "source": [
    "x=6"
   ]
  },
  {
   "cell_type": "code",
   "execution_count": 4,
   "metadata": {
    "collapsed": false
   },
   "outputs": [
    {
     "data": {
      "text/plain": [
       "6"
      ]
     },
     "execution_count": 4,
     "metadata": {},
     "output_type": "execute_result"
    }
   ],
   "source": [
    "x"
   ]
  },
  {
   "cell_type": "code",
   "execution_count": 1,
   "metadata": {
    "collapsed": false
   },
   "outputs": [
    {
     "ename": "SyntaxError",
     "evalue": "Missing parentheses in call to 'print' (<ipython-input-1-d05d0c8adf1f>, line 1)",
     "output_type": "error",
     "traceback": [
      "\u001b[1;36m  File \u001b[1;32m\"<ipython-input-1-d05d0c8adf1f>\"\u001b[1;36m, line \u001b[1;32m1\u001b[0m\n\u001b[1;33m    print 'hello world'\u001b[0m\n\u001b[1;37m                      ^\u001b[0m\n\u001b[1;31mSyntaxError\u001b[0m\u001b[1;31m:\u001b[0m Missing parentheses in call to 'print'\n"
     ]
    }
   ],
   "source": [
    "print 'hello world'"
   ]
  },
  {
   "cell_type": "code",
   "execution_count": 4,
   "metadata": {
    "collapsed": false
   },
   "outputs": [
    {
     "name": "stdout",
     "output_type": "stream",
     "text": [
      "hello world\n"
     ]
    }
   ],
   "source": [
    "print ('hello world')"
   ]
  },
  {
   "cell_type": "code",
   "execution_count": 7,
   "metadata": {
    "collapsed": false
   },
   "outputs": [
    {
     "name": "stdout",
     "output_type": "stream",
     "text": [
      "0\n",
      "1\n",
      "2\n",
      "3\n",
      "4\n",
      "5\n",
      "6\n",
      "7\n",
      "8\n",
      "9\n",
      "10\n",
      "11\n",
      "12\n",
      "13\n",
      "14\n",
      "15\n",
      "16\n",
      "17\n",
      "18\n",
      "19\n",
      "20\n",
      "21\n",
      "22\n",
      "23\n",
      "24\n",
      "25\n",
      "26\n",
      "27\n",
      "28\n",
      "29\n",
      "30\n",
      "31\n",
      "32\n",
      "33\n",
      "34\n",
      "35\n",
      "36\n",
      "37\n",
      "38\n",
      "39\n",
      "40\n",
      "41\n",
      "42\n",
      "43\n",
      "44\n",
      "45\n",
      "46\n",
      "47\n",
      "48\n",
      "49\n",
      "50\n",
      "51\n",
      "52\n",
      "53\n",
      "54\n",
      "55\n",
      "56\n",
      "57\n",
      "58\n",
      "59\n",
      "60\n",
      "61\n",
      "62\n",
      "63\n",
      "64\n",
      "65\n",
      "66\n",
      "67\n",
      "68\n",
      "69\n",
      "70\n",
      "71\n",
      "72\n",
      "73\n",
      "74\n",
      "75\n",
      "76\n",
      "77\n",
      "78\n",
      "79\n",
      "80\n",
      "81\n",
      "82\n",
      "83\n",
      "84\n",
      "85\n",
      "86\n",
      "87\n",
      "88\n",
      "89\n",
      "90\n",
      "91\n",
      "92\n",
      "93\n",
      "94\n",
      "95\n",
      "96\n",
      "97\n",
      "98\n",
      "99\n",
      "1\n",
      "2\n",
      "3\n",
      "4\n",
      "5\n",
      "0\n",
      "10\n",
      "20\n",
      "30\n",
      "40\n",
      "50\n",
      "60\n",
      "70\n",
      "80\n",
      "90\n",
      "100\n",
      "gaha\n",
      "2.75\n",
      "2\n",
      "3\n",
      "14641\n"
     ]
    }
   ],
   "source": [
    "def this_is_a_function(argument1, argument2, etc):\n",
    "    return argument1 + argument2 + etc\n",
    "\n",
    "class this_is_an_object(object):\n",
    "    this_is_an_attribute = 10\n",
    "\n",
    "class another_object(this_is_an_object):\n",
    "    yes = \"no\"\n",
    "    \n",
    "gaha = [1, 2, 3, 4, 5]\n",
    "\n",
    "for x in range(0, 100):\n",
    "    print(x)\n",
    "\n",
    "for x in gaha:\n",
    "    print(x)\n",
    "    \n",
    "for x in range(0, 101, 10):\n",
    "    print(x)\n",
    "    \n",
    "class global_variables(object):\n",
    "    global_variable = 10\n",
    "    \n",
    "if global_variables.global_variable == 10:\n",
    "    print(\"gaha\")\n",
    "elif global_variables.global_variable == 0:\n",
    "    print(\"bluh\")\n",
    "else:\n",
    "    print(\"Deatha Waitsme\")\n",
    "    \n",
    "x = 11 / 4\n",
    "print(x)\n",
    "x = 11 //4\n",
    "print(x)\n",
    "x = 11 % 4\n",
    "print(x)\n",
    "x = 11 ** 4\n",
    "print(x)\n",
    "\n",
    "if x == 10 and y == 10:\n",
    "    if x == 10 or y == 10:\n",
    "        print(\"bluh\")"
   ]
  },
  {
   "cell_type": "code",
   "execution_count": 13,
   "metadata": {
    "collapsed": true
   },
   "outputs": [],
   "source": [
    "import math as m"
   ]
  },
  {
   "cell_type": "code",
   "execution_count": 12,
   "metadata": {
    "collapsed": false
   },
   "outputs": [
    {
     "ename": "AttributeError",
     "evalue": "module 'math' has no attribute 'random'",
     "output_type": "error",
     "traceback": [
      "\u001b[1;31m---------------------------------------------------------------------------\u001b[0m",
      "\u001b[1;31mAttributeError\u001b[0m                            Traceback (most recent call last)",
      "\u001b[1;32m<ipython-input-12-38938eeb5d30>\u001b[0m in \u001b[0;36m<module>\u001b[1;34m()\u001b[0m\n\u001b[1;32m----> 1\u001b[1;33m \u001b[0mprint\u001b[0m \u001b[1;33m(\u001b[0m\u001b[0mmath\u001b[0m\u001b[1;33m.\u001b[0m\u001b[0mrandom\u001b[0m\u001b[1;33m(\u001b[0m\u001b[1;33m)\u001b[0m\u001b[1;33m)\u001b[0m\u001b[1;33m\u001b[0m\u001b[0m\n\u001b[0m",
      "\u001b[1;31mAttributeError\u001b[0m: module 'math' has no attribute 'random'"
     ]
    }
   ],
   "source": [
    "print (math.random())"
   ]
  },
  {
   "cell_type": "code",
   "execution_count": null,
   "metadata": {
    "collapsed": true
   },
   "outputs": [],
   "source": []
  },
  {
   "cell_type": "code",
   "execution_count": null,
   "metadata": {
    "collapsed": true
   },
   "outputs": [],
   "source": [
    "#A function to return a matrix containing the number of steps required to reach each node in a given grid. If\n",
    "#the node can't be reached, an 'X' appears there instead.\n",
    "def BFS(grid, start):\n",
    "    #Each grid is assumed to be n x n, so n is taken to be the length of one row of the grid\n",
    "    n = len(grid[0])\n",
    "    #This is the matrix that is returned. By default all nodes have 'X' in them. As they are visited these will be\n",
    "    #replaced with the number of steps necessary to reach that node from the start.\n",
    "    result_matrix = [['X' for x in range(n)] for y in range(n)]\n",
    "    #The queue which stores the next grid location to check. Grid locations are stored as a number x, where\n",
    "    #x // n is its row and x % n is its column.\n",
    "    FIFO = []\n",
    "    #The main loop of this function requires FIFO to already have values, so the\n",
    "    #start point is done before the main loop\n",
    "    result_matrix[start // n][start % n] = 0\n",
    "    #grid_face_value stores what value is on the grid - it shows how many spaces\n",
    "    #you can move from that face\n",
    "    grid_face_value = grid[start //n][start % n]\n",
    "    #current_depth_size keeps track of the remaining nodes to visit for each depth.\n",
    "    #Once a depth no longer has any nodes to visit, the depth is incremented.\n",
    "    current_depth_size = [0 for x in range(n ** 2)]\n",
    "    #These four if statements check to see if you can move right, left, down, or up\n",
    "    #respectively from the starting point. If you can, then the current_depth_size\n",
    "    #array is incremented for depth 0.\n",
    "    if (start % n + grid_face_value < n):\n",
    "        FIFO.append(start + grid_face_value)\n",
    "        current_depth_size[0] += 1\n",
    "    if (start % n - grid_face_value >= 0):\n",
    "        FIFO.append(start - grid_face_value)\n",
    "        current_depth_size[0] += 1\n",
    "    if (start // n + grid_face_value < n):\n",
    "        FIFO.append(start + grid_face_value * n)\n",
    "        current_depth_size[0] += 1\n",
    "    if (start // n - grid_face_value >= n):\n",
    "        FIFO.append(start - grid_face_value * n)\n",
    "        current_depth_size[0] += 1\n",
    "    #Depth is set to 1 since only the start node takes 0 steps to reach.\n",
    "    depth = 1\n",
    "    #Repeat the loop until the BFS has exhausted all nodes.\n",
    "    while (len(FIFO) > 0):\n",
    "        #Pop the next instruction from the queue. This is an integer x which has x // n\n",
    "        #as its row and x % n as its column\n",
    "        next_instruction = FIFO.pop(0)\n",
    "        #Set the node pointed to by the next instruction as requiring \"depth\" steps to reach\n",
    "        result_matrix[next_instruction // n][next_instruction % n] = depth\n",
    "        #Because you popped an instruction, decrement the counter for the lower depth\n",
    "        current_depth_size[depth - 1] -= 1\n",
    "        #grid_face_value is the value that's shown on the grid and represents how far you can move\n",
    "        grid_face_value = grid[next_instruction //n][next_instruction % n]\n",
    "            #Testing going to the right according to the value on the grid\n",
    "        if ((next_instruction % n) + grid_face_value < n):\n",
    "            #If the results matrix shows 'X' that means it's not visited yet\n",
    "            if result_matrix[next_instruction // n][next_instruction % n + grid_face_value] == 'X':\n",
    "                FIFO.append(next_instruction + grid_face_value)\n",
    "                current_depth_size[depth] += 1\n",
    "        #Testing going to the left according to the value on the grid\n",
    "        if ((next_instruction % n) - grid_face_value >= 0):\n",
    "            if result_matrix[next_instruction // n][next_instruction % n - grid_face_value] == 'X':\n",
    "                FIFO.append(next_instruction - grid_face_value)\n",
    "                current_depth_size[depth] += 1\n",
    "        #Testing going downward according to the value on the grid\n",
    "        if (next_instruction // n + grid_face_value < n):\n",
    "            if result_matrix[(next_instruction // n) + grid_face_value][next_instruction % n] == 'X':\n",
    "                FIFO.append(next_instruction + grid_face_value * n)\n",
    "                current_depth_size[depth] += 1\n",
    "        #Testing going upward according to the value on the grid\n",
    "        if (next_instruction // n - grid_face_value >= 0):\n",
    "            if result_matrix[(next_instruction // n) - grid_face_value][next_instruction % n] == 'X':\n",
    "                FIFO.append(next_instruction - grid_face_value * n)\n",
    "                current_depth_size[depth] += 1\n",
    "        #Once you exhaust all steps from the lower depth, increment depth\n",
    "        if (current_depth_size[depth - 1] == 0):\n",
    "            depth += 1\n",
    "    return result_matrix"
   ]
  },
  {
   "cell_type": "code",
   "execution_count": null,
   "metadata": {
    "collapsed": true
   },
   "outputs": [],
   "source": [
    "test_matrix = [[2,2,2,4,3],[2,2,3,3,3],[3,3,2,3,3],[4,3,2,2,2],[1,2,1,4,0]]\n",
    "print(BFS(test_matrix, 0))"
   ]
  },
  {
   "cell_type": "code",
   "execution_count": null,
   "metadata": {
    "collapsed": true
   },
   "outputs": [],
   "source": []
  },
  {
   "cell_type": "code",
   "execution_count": null,
   "metadata": {
    "collapsed": true
   },
   "outputs": [],
   "source": []
  }
 ],
 "metadata": {
  "kernelspec": {
   "display_name": "Python 3",
   "language": "python",
   "name": "python3"
  },
  "language_info": {
   "codemirror_mode": {
    "name": "ipython",
    "version": 3
   },
   "file_extension": ".py",
   "mimetype": "text/x-python",
   "name": "python",
   "nbconvert_exporter": "python",
   "pygments_lexer": "ipython3",
   "version": "3.6.0"
  }
 },
 "nbformat": 4,
 "nbformat_minor": 2
}
