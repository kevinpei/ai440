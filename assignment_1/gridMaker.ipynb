{
 "cells": [
  {
   "cell_type": "code",
   "execution_count": 10,
   "metadata": {},
   "outputs": [
    {
     "name": "stdout",
     "output_type": "stream",
     "text": [
      "[[3, 4, 1, 2, 2], [4, 3, 3, 2, 3], [3, 3, 2, 1, 1], [3, 1, 1, 1, 2], [4, 4, 3, 1, 2]]\n"
     ]
    }
   ],
   "source": [
    "from tkinter import *\n",
    "import random as r\n",
    "\n",
    "class gridMap:\n",
    "    \n",
    "    #A constructor for intializing a map.\n",
    "    def __init__(self, inArray):\n",
    "        self.inArray = inArray\n",
    "        \n",
    "        #Variable that holds N of an NxN array. Used to initialize the number of boxes a grid should have.\n",
    "        puzzleDim = len(inArray)\n",
    "        \n",
    "        #Generating a window with NxN boxes. Sort of like a checkerboard\n",
    "        \n",
    "        \n",
    "        \n",
    "    def getSize (self):\n",
    "        size = input(\"Please input puzzle size: \")\n",
    "        print (\"You entered: \", size)\n",
    "        return size\n",
    "    \n",
    "def randomGradientGen (inDim, xVal, yVal):\n",
    "    max_x = max(xVal, inDim - 1 - xVal)\n",
    "    max_y = max(yVal, inDim - 1 - yVal)\n",
    "    max_value = max(max_x, max_y)\n",
    "    \n",
    "    outInt = r.randint(1,max_value)\n",
    "    \n",
    "    return outInt\n",
    "    \n",
    "def arrayGen(inDim):\n",
    "\n",
    "    #Our output array, Filling with random numbers with legal moves.\n",
    "    newArr = [[randomGradientGen(inDim, x, y) for x in range(inDim)] for y in range(inDim)]\n",
    "    \n",
    "    return newArr\n",
    "    \n",
    "    \n",
    "x = arrayGen(5)\n",
    "print (x)\n",
    "\n"
   ]
  },
  {
   "cell_type": "code",
   "execution_count": null,
   "metadata": {
    "collapsed": true
   },
   "outputs": [],
   "source": []
  },
  {
   "cell_type": "code",
   "execution_count": null,
   "metadata": {
    "collapsed": true
   },
   "outputs": [],
   "source": []
  }
 ],
 "metadata": {
  "kernelspec": {
   "display_name": "Python 3",
   "language": "python",
   "name": "python3"
  },
  "language_info": {
   "codemirror_mode": {
    "name": "ipython",
    "version": 3
   },
   "file_extension": ".py",
   "mimetype": "text/x-python",
   "name": "python",
   "nbconvert_exporter": "python",
   "pygments_lexer": "ipython3",
   "version": "3.6.1"
  }
 },
 "nbformat": 4,
 "nbformat_minor": 2
}
