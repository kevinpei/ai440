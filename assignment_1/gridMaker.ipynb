{
 "cells": [
  {
   "cell_type": "code",
   "execution_count": 39,
   "metadata": {
    "collapsed": true
   },
   "outputs": [],
   "source": [
    "import tkinter as tk\n",
    "import random as r\n",
    "\n",
    "class puzzleGrid:\n",
    "    \n",
    "    #A constructor for intializing a map.\n",
    "    def __init__(self, master, inArray):\n",
    "        gridDim = len(inArray)\n",
    "        for i in range(gridDim):\n",
    "            for j in range(gridDim):\n",
    "                tk.Label(master, text = str(inArray[i][j]), padx = 10, pady = 10, relief = \"sunken\").grid(row=i, column=j)\n",
    "    \n",
    "def randomGradientGen(inDim, xVal, yVal):\n",
    "    max_x = max(xVal, inDim - 1 - xVal)\n",
    "    max_y = max(yVal, inDim - 1 - yVal)\n",
    "    max_value = max(max_x, max_y)\n",
    "    \n",
    "    outInt = r.randint(1,max_value)\n",
    "    \n",
    "    return outInt\n",
    "    \n",
    "def arrayGen(inDim):\n",
    "\n",
    "    #Our output array, Filling with random numbers with legal moves.\n",
    "    newArr = [[randomGradientGen(inDim, x, y) for x in range(inDim)] for y in range(inDim)]\n",
    "    \n",
    "    return newArr\n",
    "    \n",
    "x = arrayGen(5)\n",
    "master = tk.Tk()\n",
    "master.resizable(width=False, height=False)\n",
    "newGrid = puzzleGrid(master, x)\n",
    "master.mainloop()\n",
    "\n"
   ]
  },
  {
   "cell_type": "code",
   "execution_count": null,
   "metadata": {
    "collapsed": true
   },
   "outputs": [],
   "source": []
  },
  {
   "cell_type": "code",
   "execution_count": null,
   "metadata": {
    "collapsed": true
   },
   "outputs": [],
   "source": []
  }
 ],
 "metadata": {
  "kernelspec": {
   "display_name": "Python 3",
   "language": "python",
   "name": "python3"
  },
  "language_info": {
   "codemirror_mode": {
    "name": "ipython",
    "version": 3
   },
   "file_extension": ".py",
   "mimetype": "text/x-python",
   "name": "python",
   "nbconvert_exporter": "python",
   "pygments_lexer": "ipython3",
   "version": "3.6.0"
  }
 },
 "nbformat": 4,
 "nbformat_minor": 2
}
