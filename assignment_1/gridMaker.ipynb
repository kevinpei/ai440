{
 "cells": [
  {
   "cell_type": "code",
   "execution_count": 4,
   "metadata": {},
   "outputs": [
    {
     "ename": "AttributeError",
     "evalue": "'builtin_function_or_method' object has no attribute 'seed'",
     "output_type": "error",
     "traceback": [
      "\u001b[1;31m---------------------------------------------------------------------------\u001b[0m",
      "\u001b[1;31mAttributeError\u001b[0m                            Traceback (most recent call last)",
      "\u001b[1;32m<ipython-input-4-8d7b05e3b8e4>\u001b[0m in \u001b[0;36m<module>\u001b[1;34m()\u001b[0m\n\u001b[0;32m      2\u001b[0m \u001b[1;32mfrom\u001b[0m \u001b[0mrandom\u001b[0m \u001b[1;32mimport\u001b[0m \u001b[1;33m*\u001b[0m\u001b[1;33m\u001b[0m\u001b[0m\n\u001b[0;32m      3\u001b[0m \u001b[1;33m\u001b[0m\u001b[0m\n\u001b[1;32m----> 4\u001b[1;33m \u001b[0mrandom\u001b[0m\u001b[1;33m.\u001b[0m\u001b[0mseed\u001b[0m\u001b[1;33m\u001b[0m\u001b[0m\n\u001b[0m\u001b[0;32m      5\u001b[0m \u001b[1;33m\u001b[0m\u001b[0m\n\u001b[0;32m      6\u001b[0m \u001b[1;32mclass\u001b[0m \u001b[0mgridMap\u001b[0m\u001b[1;33m:\u001b[0m\u001b[1;33m\u001b[0m\u001b[0m\n",
      "\u001b[1;31mAttributeError\u001b[0m: 'builtin_function_or_method' object has no attribute 'seed'"
     ]
    }
   ],
   "source": [
    "from tkinter import *\n",
    "from random import *\n",
    "\n",
    "class gridMap:\n",
    "    \n",
    "    #A constructor for intializing a map.\n",
    "    def __init__(self, inArray):\n",
    "        inArray = self.inArray\n",
    "        \n",
    "        #Variable that holds N of an NxN array. Used to initialize the number of boxes a grid should have.\n",
    "        puzzleDim = len(inArray)\n",
    "        \n",
    "        #Generating a window with NxN boxes. Sort of like a checkerboard\n",
    "        \n",
    "        \n",
    "        \n",
    "    def getSize (self):\n",
    "        size = input(\"Please input puzzle size: \")\n",
    "        print (\"You entered: \", size)\n",
    "        return size\n",
    "    \n",
    "\n",
    "def arrayGen(inDim):\n",
    "    \n",
    "    #Redefining input dimension size to make its role more understandable\n",
    "    #The input dimension N for an NxN grid is also the boundary for legal moves. N-1 is the max legal move to make, with decreasing amounts as you move further inward\n",
    "    gridBound = inDim\n",
    "    \n",
    "    #Our output array, Generating an empty list\n",
    "    newArr = [[0 for x in range(inDim)] for y in range(inDim)]\n",
    "    \n",
    "    #Filling the new Array with random numbers based on \n",
    "    for i in range(inDim):\n",
    "        for j in range(inDim):\n",
    "            #TO BE CONTINUED\n",
    "    \n",
    "    \n",
    "x = gridMap()\n",
    "x.getSize()\n"
   ]
  },
  {
   "cell_type": "code",
   "execution_count": null,
   "metadata": {
    "collapsed": true
   },
   "outputs": [],
   "source": []
  },
  {
   "cell_type": "code",
   "execution_count": null,
   "metadata": {
    "collapsed": true
   },
   "outputs": [],
   "source": []
  }
 ],
 "metadata": {
  "kernelspec": {
   "display_name": "Python 3",
   "language": "python",
   "name": "python3"
  },
  "language_info": {
   "codemirror_mode": {
    "name": "ipython",
    "version": 3
   },
   "file_extension": ".py",
   "mimetype": "text/x-python",
   "name": "python",
   "nbconvert_exporter": "python",
   "pygments_lexer": "ipython3",
   "version": "3.6.1"
  }
 },
 "nbformat": 4,
 "nbformat_minor": 2
}
