{
 "cells": [
  {
   "cell_type": "code",
   "execution_count": 12,
   "metadata": {},
   "outputs": [],
   "source": [
    "#Importing all necessary libraries\n",
    "import heapq\n",
    "import math as m\n",
    "\n",
    "#Initializing fringe and closed list\n",
    "#Might be better to initialize these separately and have this as its own method\n",
    "#Pass it a map, and start node have it return a list of the path with [0] being start and [n] being the goal.\n",
    "\n",
    "#Pins are used to track A*'s progress across the grid. Each pin has coordinate values for its position, a parent, and f, g, and h values which can be udpated.\n",
    "class vertex:\n",
    "    def __init__(self, coordinate, parent, fVal, gVal, hVal):\n",
    "        self.coordinate = coordinate\n",
    "        self.parent = parent\n",
    "        #Possible to initialize this last and set it equal to sum of gVal and hVal?\n",
    "        self.fVal = fVal\n",
    "        self.gVal = gVal\n",
    "        self.hVal = hVal\n",
    "\n",
    "#Euclidean distance heuristic, for use while prototyping A* search\n",
    "def getEuclideanDistance(coordinate1, coordinate2):\n",
    "    return m.sqrt((coordinate2[0] - coordinate1[0]) ** 2 + (coordinate2[1] - coordinate1[1]) ** 2)\n",
    "\n",
    "def getPath(current, path):\n",
    "    totalPath = [current]\n",
    "    if current.parent\n",
    "#Will be using euclidean distance heuristic written by K. Pei, should make algorithm modular as we develop the project.        \n",
    "def aStarSearch(gridWorld, startVertice, goalVertice):\n",
    "    #Initializing: fringe (heap), closed list(dic), and path (dic)\n",
    "    fringe = []\n",
    "    closedList = {}\n",
    "    path = {}\n",
    "    \n",
    "    #Initializing start pin\n",
    "    navigator = vertex(startVertice, self, 0, 0, 0)\n",
    "    navigator.hVal = getEuclideanDistance(navigator.coordinate, goalVertice)\n",
    "    navigator.fVal = navigator.gVal + navigator.hVal\n",
    "    \n",
    "    #Adding the start vertice to the fringe\n",
    "    heappush(fringe, (navigator.fVal, navigator))\n",
    "    \n",
    "    #Main searching loop\n",
    "    while len(fringe)>0:\n",
    "        search = heappop(fringe)\n",
    "        if search.coordinate[0] = goalVertice[0] and search.coordinate[1] = goalVertice[1]:\n",
    "            print(\"Path Found.\")\n",
    "            return getPath(search, path)\n",
    "        #Setting current node to have been visited and checked. OH WAIT ARRAYS CAN'T BE FUCKING DICTIONARY KEYS\n",
    "        closedList = [search.coordinate] = True\n",
    "        "
   ]
  },
  {
   "cell_type": "code",
   "execution_count": null,
   "metadata": {
    "collapsed": true
   },
   "outputs": [],
   "source": []
  }
 ],
 "metadata": {
  "kernelspec": {
   "display_name": "Python 3",
   "language": "python",
   "name": "python3"
  },
  "language_info": {
   "codemirror_mode": {
    "name": "ipython",
    "version": 3
   },
   "file_extension": ".py",
   "mimetype": "text/x-python",
   "name": "python",
   "nbconvert_exporter": "python",
   "pygments_lexer": "ipython3",
   "version": "3.4.3"
  }
 },
 "nbformat": 4,
 "nbformat_minor": 2
}
