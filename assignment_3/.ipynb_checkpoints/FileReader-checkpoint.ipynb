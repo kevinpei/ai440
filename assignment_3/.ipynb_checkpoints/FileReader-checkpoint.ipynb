{
 "cells": [
  {
   "cell_type": "code",
   "execution_count": 5,
   "metadata": {
    "collapsed": true
   },
   "outputs": [],
   "source": [
    "def readStart(filename):\n",
    "    data = open(filename)\n",
    "    start = data.readline()\n",
    "    data.close()\n",
    "    coordinates = start.split(\"\\n\")[0].split(\",\")\n",
    "    return (coordinates[0], coordinates[1])\n",
    "\n",
    "def readGoal(filename):\n",
    "    data = open(filename)\n",
    "    data.readline()\n",
    "    goal = data.readline()\n",
    "    data.close()\n",
    "    coordinates = goal.split(\"\\n\")[0].split(\",\")\n",
    "    return (coordinates[0], coordinates[1])\n",
    "\n",
    "def createGrid(filename, rows):\n",
    "    data = open(filename)\n",
    "    for x in range(10):\n",
    "        data.readline()\n",
    "    grid = []\n",
    "    for x in range(rows):\n",
    "        grid.append(list(data.readline().split(\"\\n\")[0]))\n",
    "    data.close()\n",
    "    return grid\n",
    "    "
   ]
  },
  {
   "cell_type": "code",
   "execution_count": 6,
   "metadata": {
    "collapsed": false
   },
   "outputs": [
    {
     "name": "stdout",
     "output_type": "stream",
     "text": [
      "('119', '127')\n",
      "('92', '19')\n"
     ]
    },
    {
     "ename": "TypeError",
     "evalue": "createGrid() missing 1 required positional argument: 'rows'",
     "output_type": "error",
     "traceback": [
      "\u001b[0;31m---------------------------------------------------------------------------\u001b[0m",
      "\u001b[0;31mTypeError\u001b[0m                                 Traceback (most recent call last)",
      "\u001b[0;32m<ipython-input-6-d81738cbe7b2>\u001b[0m in \u001b[0;36m<module>\u001b[0;34m()\u001b[0m\n\u001b[1;32m      2\u001b[0m \u001b[0mprint\u001b[0m\u001b[1;33m(\u001b[0m\u001b[0mreadStart\u001b[0m\u001b[1;33m(\u001b[0m\u001b[0mfilename\u001b[0m\u001b[1;33m)\u001b[0m\u001b[1;33m)\u001b[0m\u001b[1;33m\u001b[0m\u001b[0m\n\u001b[1;32m      3\u001b[0m \u001b[0mprint\u001b[0m\u001b[1;33m(\u001b[0m\u001b[0mreadGoal\u001b[0m\u001b[1;33m(\u001b[0m\u001b[0mfilename\u001b[0m\u001b[1;33m)\u001b[0m\u001b[1;33m)\u001b[0m\u001b[1;33m\u001b[0m\u001b[0m\n\u001b[0;32m----> 4\u001b[0;31m \u001b[0mprint\u001b[0m\u001b[1;33m(\u001b[0m\u001b[0mcreateGrid\u001b[0m\u001b[1;33m(\u001b[0m\u001b[0mfilename\u001b[0m\u001b[1;33m)\u001b[0m\u001b[1;33m)\u001b[0m\u001b[1;33m\u001b[0m\u001b[0m\n\u001b[0m",
      "\u001b[0;31mTypeError\u001b[0m: createGrid() missing 1 required positional argument: 'rows'"
     ]
    }
   ],
   "source": [
    "filename = 'test.txt'\n",
    "print(readStart(filename))\n",
    "print(readGoal(filename))\n",
    "print(createGrid(filename, 120))"
   ]
  },
  {
   "cell_type": "code",
   "execution_count": null,
   "metadata": {
    "collapsed": true
   },
   "outputs": [],
   "source": []
  }
 ],
 "metadata": {
  "kernelspec": {
   "display_name": "Python 3",
   "language": "python",
   "name": "python3"
  },
  "language_info": {
   "codemirror_mode": {
    "name": "ipython",
    "version": 3
   },
   "file_extension": ".py",
   "mimetype": "text/x-python",
   "name": "python",
   "nbconvert_exporter": "python",
   "pygments_lexer": "ipython3",
   "version": "3.6.0"
  }
 },
 "nbformat": 4,
 "nbformat_minor": 2
}
